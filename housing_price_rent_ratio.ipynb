{
 "cells": [
  {
   "cell_type": "code",
   "execution_count": null,
   "id": "f7a57a0c-d7ad-462a-b394-27e7f7c0c5df",
   "metadata": {},
   "outputs": [],
   "source": [
    "import pathlib\n",
    "import time\n",
    "\n",
    "import pandas as pd\n",
    "import census\n",
    "import us\n",
    "import cpi\n",
    "import datetime\n",
    "# cpi.update()  # on first run\n",
    "\n",
    "import matplotlib\n",
    "from matplotlib import pyplot as plt\n",
    "import seaborn as sns\n",
    "sns.set_style('whitegrid')\n",
    "\n",
    "%config InlineBackend.figure_format = 'svg'\n",
    "\n",
    "from tqdm.auto import tqdm\n",
    "\n",
    "api_key = pathlib.Path('api_key_secret.txt').read_text()\n",
    "\n",
    "c = census.Census(api_key)"
   ]
  },
  {
   "cell_type": "code",
   "execution_count": null,
   "id": "34e31636-8a5b-45b9-be6f-05b487bf8024",
   "metadata": {},
   "outputs": [],
   "source": [
    "# https://data.census.gov/cedsci/table?q=gross%20rent%20san%20francisco&g=0100000US&tid=ACSDP1Y2021.DP04\n",
    "\n",
    "search_states = [us.states.CA.fips, us.states.MN.fips, us.states.FL.fips]\n",
    "start_year = 2010  # Earliest year data available\n",
    "end_year = datetime.date.today().year\n",
    "stats_of_interest = {\n",
    "    'B25064_001E': 'Median Rent',\n",
    "    'B25077_001E': 'Median Value',\n",
    "}"
   ]
  },
  {
   "cell_type": "code",
   "execution_count": null,
   "id": "a75ebf9d-5751-46e0-b83a-18cf62100a7a",
   "metadata": {},
   "outputs": [],
   "source": [
    "search_years = list(range(start_year, end_year+1))\n",
    "census_data = []\n",
    "reporter = tqdm(total=len(stats_of_interest)*len(search_years)*len(search_states))\n",
    "for search_state in search_states:\n",
    "    for stat_id, stat_name in stats_of_interest.items():\n",
    "        for year in search_years:\n",
    "            try:\n",
    "                df = pd.DataFrame.from_records(c.acs1.get(('NAME', stat_id), {'for': 'county:*', 'in': 'state:{}'.format(search_state)}, year=year))\n",
    "            except Exception:\n",
    "                time.sleep(0.1)\n",
    "                reporter.update()\n",
    "                continue\n",
    "            df = df.rename(columns={stat_id: 'Value', 'NAME': 'Name', 'state': 'State', 'county': 'County'})\n",
    "            df['Statistic'] = stat_name\n",
    "            df['Stat ID'] = stat_id\n",
    "            df['Year'] = year\n",
    "            census_data.append(df)\n",
    "            time.sleep(0.1)\n",
    "            reporter.update()\n",
    "reporter.close()\n",
    "census_data = pd.concat(census_data, ignore_index=True)\n",
    "print(len(census_data))\n",
    "census_data.head()"
   ]
  },
  {
   "cell_type": "code",
   "execution_count": null,
   "id": "c1c7ba78-e78a-424f-aeae-1b6c89eaf0f4",
   "metadata": {},
   "outputs": [],
   "source": [
    "census_data.drop_duplicates('State')"
   ]
  },
  {
   "cell_type": "code",
   "execution_count": null,
   "id": "55a2f6c1-8b88-4665-bd91-712d16f80587",
   "metadata": {},
   "outputs": [],
   "source": [
    "plot_counties = [\n",
    "    'San Francisco County, California',\n",
    "    # 'Alameda County, California', 'Santa Clara County, California',\n",
    "    'San Diego County, California', 'Los Angeles County, California',\n",
    "    # 'Riverside County, California',\n",
    "    # 'Lake County, California', 'Sonoma County, California',\n",
    "    'Hennepin County, Minnesota',\n",
    "    'Bay County, Florida',\n",
    "    'Miami-Dade County, Florida',\n",
    "]\n",
    "for stat_name in census_data['Statistic'].drop_duplicates():\n",
    "    fig, ax = plt.subplots(dpi=150)\n",
    "    sns.lineplot(data=census_data.loc[\n",
    "        census_data['Name'].isin(plot_counties) &\n",
    "        (census_data['Statistic'] == stat_name)\n",
    "    ], x='Year', y='Value', hue='Name')\n",
    "    ax.set_title(stat_name)\n",
    "    ax.legend(bbox_to_anchor=(1.04, 1), loc=\"upper left\")"
   ]
  },
  {
   "cell_type": "code",
   "execution_count": null,
   "id": "af746c19-f45c-4d81-bf0a-326aa5b78411",
   "metadata": {},
   "outputs": [],
   "source": [
    "census_wide = census_data[['Name', 'State', 'County', 'Year']].drop_duplicates()\n",
    "for stat_name in census_data['Statistic'].drop_duplicates():\n",
    "    census_wide = census_wide.merge(census_data.loc[census_data['Statistic'] == stat_name].drop(columns=['Statistic', 'Stat ID']).rename(columns={'Value': stat_name}), on=['Name', 'State', 'County', 'Year'], how='left')\n",
    "for stat_name in census_data['Statistic'].drop_duplicates():\n",
    "    census_wide[stat_name+' ({} dollars)'.format(cpi.LATEST_YEAR)] = census_wide.apply(lambda x: cpi.inflate(x[stat_name], x['Year'], to=cpi.LATEST_YEAR), axis=1)\n",
    "census_wide['Price-to-Rent Ratio ({} dollars)'.format(cpi.LATEST_YEAR)] = census_wide['Median Value ({} dollars)'.format(cpi.LATEST_YEAR)] / (census_wide['Median Rent ({} dollars)'.format(cpi.LATEST_YEAR)] * 12.0)\n",
    "print(len(census_wide))\n",
    "census_wide.loc[census_wide['Name'] == 'San Francisco County, California'].sort_values('Year')"
   ]
  },
  {
   "cell_type": "code",
   "execution_count": null,
   "id": "9a694303-c416-499c-b4f8-0f4e4a22f8cc",
   "metadata": {},
   "outputs": [],
   "source": [
    "fig, ax = plt.subplots(dpi=150)\n",
    "sns.lineplot(data=census_wide.loc[census_wide['Name'].isin(plot_counties)], x='Year', y='Price-to-Rent Ratio ({} dollars)'.format(cpi.LATEST_YEAR), hue='Name')\n",
    "ax.set_title('Price-to-Rent Ratio ({} dollars)'.format(cpi.LATEST_YEAR))\n",
    "ax.legend(bbox_to_anchor=(1.04, 1), loc=\"upper left\")"
   ]
  },
  {
   "cell_type": "code",
   "execution_count": null,
   "id": "fa240082-5f72-4df0-bf0b-e86a323e509c",
   "metadata": {},
   "outputs": [],
   "source": [
    "for plot_county in plot_counties:\n",
    "    df = census_wide.loc[census_wide['Name'] == plot_county].copy()\n",
    "    fig, ax1 = plt.subplots(dpi=150)\n",
    "    ax2 = ax1.twinx()\n",
    "    sns.lineplot(data=df, x='Year', y='Median Rent ({} dollars)'.format(cpi.LATEST_YEAR), ax=ax1, color=sns.color_palette()[0], label='Rent')\n",
    "    sns.lineplot(data=df, x='Year', y='Median Value ({} dollars)'.format(cpi.LATEST_YEAR), ax=ax2, color=sns.color_palette()[1], label='Value')\n",
    "    # df.head()\n",
    "    ax1.legend(bbox_to_anchor=(1.1, 1), loc=\"upper left\")\n",
    "    ax2.legend(bbox_to_anchor=(1.1, 0.1), loc=\"upper left\")\n",
    "    fig.suptitle(plot_county)\n",
    "    ax2.set_ylabel('Median Value ({} millions of dollars)'.format(cpi.LATEST_YEAR))\n",
    "    ax1.yaxis.set_major_formatter('${x:1.0f}')\n",
    "    ax2.yaxis.set_major_formatter(lambda x, y: '${:0.2f}m'.format(x/(1.0*10**6)))"
   ]
  }
 ],
 "metadata": {
  "language_info": {
   "name": "python",
   "pygments_lexer": "ipython3"
  }
 },
 "nbformat": 4,
 "nbformat_minor": 5
}
